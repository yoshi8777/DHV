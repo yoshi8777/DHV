{
  "nbformat": 4,
  "nbformat_minor": 0,
  "metadata": {
    "colab": {
      "provenance": []
    },
    "kernelspec": {
      "name": "python3",
      "display_name": "Python 3"
    },
    "language_info": {
      "name": "python"
    }
  },
  "cells": [
    {
      "cell_type": "markdown",
      "source": [
        "**DHV LAB Sheet-8** using student dataset"
      ],
      "metadata": {
        "id": "Eke1_qB2-wDa"
      }
    },
    {
      "cell_type": "code",
      "execution_count": null,
      "metadata": {
        "id": "Ea4C8rUR0ibU"
      },
      "outputs": [],
      "source": [
        "#Import Python Libraries\n",
        "import numpy as np\n",
        "import scipy as sp\n",
        "import pandas as pd\n",
        "import matplotlib.pyplot as plt\n",
        "import seaborn as sns\n",
        "\n",
        "# Enable inline plotting\n",
        "%matplotlib inline"
      ]
    },
    {
      "cell_type": "code",
      "source": [
        "import pandas as pd\n",
        "df = pd.read_csv('CSG1STUDENTDATA.csv', encoding= 'unicode_escape')"
      ],
      "metadata": {
        "id": "0p4h_teq6T8B"
      },
      "execution_count": null,
      "outputs": []
    },
    {
      "cell_type": "code",
      "source": [
        "df"
      ],
      "metadata": {
        "colab": {
          "base_uri": "https://localhost:8080/",
          "height": 865
        },
        "id": "v9vsG4KN6ksk",
        "outputId": "4bf2aefb-37a1-4207-da28-dfa8d74bb01a"
      },
      "execution_count": null,
      "outputs": [
        {
          "output_type": "execute_result",
          "data": {
            "text/plain": [
              "          Roll No             Student Name Gender  Python   Java  AI  CG   SE  \\\n",
              "0    20201CSG0001               S NAMRATHA      F       99    97  96  71   61   \n",
              "1    20201CSG0003                   NEHA R      F       75    67  71  95   62   \n",
              "2    20201CSG0004              HARSHITHA C      F       96    66  66  60   87   \n",
              "3    20201CSG0005                MAHANTH S      F       86    71  92  60   71   \n",
              "4    20201CSG0006              RAKSHITHA N      F       92    57  88  83   63   \n",
              "5    20201CSG0007                  AKHIL R      M       65    85  96  73   95   \n",
              "6    20201CSG0008         RAFIYA NUSRATH D      F       66    97  75  84   85   \n",
              "7    20201CSG0009            ABHINEET GAUR      M       89    95  82  87   57   \n",
              "8    20201CSG0010           DEEKSHITHA S V      F       63    52  93  87   97   \n",
              "9    20201CSG0011         R CHARIS SUSANNA      M       76    91  66  72   61   \n",
              "10   20201CSG0016              NUTHANA D P      M       90    83  79  82   96   \n",
              "11   20201CSG0020           VIRENDAR S OZA      M       67    95  97  72   71   \n",
              "12   20201CSG0021             AFSA HOORIYA      F       83    67  72  62   75   \n",
              "13   20201CSG0022             CHAITHRA N Y      F       68    80  93  95   97   \n",
              "14   20201CSG0023      GAGAN GANAPATHY B B      M       60    81  92  77  100   \n",
              "15   20201CSG0025              JAYANTH S R      M       73    77  92  93   54   \n",
              "16   20201CSG0026                PRAJWAL P      M       93    53  97  90   98   \n",
              "17   20201CSG0027                 PRAMOD N      M       91    77  74  75   76   \n",
              "18   20201CSG0029               SHARAJ O V      M       74    57  80  62   85   \n",
              "19   20201CSG0030     SURAJ KUMAR TRIPATHY      M       67    76  81  94   99   \n",
              "20   20201CSG0032             CHANDANA M S      F       92    75  83  70   65   \n",
              "21   20201CSG0033  ADIB MOHAMMED HAGALWADI      M       98    90  95  69   85   \n",
              "22   20201CSG0034              SAIMITHUN B      F       87    58  99  88   91   \n",
              "23   20201CSG0035               VAISHALI V      F       87    60  67  68   65   \n",
              "24   20201CSG0036                MEGHANA M      F       98    56  96  67   51   \n",
              "25   20201CSG0038             AMRUTHA UDAY      F       70    86  68  64   85   \n",
              "\n",
              "    DHV  Total  \n",
              "0    83    507  \n",
              "1    79    449  \n",
              "2    94    469  \n",
              "3    90    470  \n",
              "4    88    471  \n",
              "5    75    489  \n",
              "6    91    498  \n",
              "7    95    505  \n",
              "8    73    465  \n",
              "9    76    442  \n",
              "10   70    500  \n",
              "11   78    480  \n",
              "12   79    438  \n",
              "13   77    510  \n",
              "14   91    501  \n",
              "15  100    489  \n",
              "16   70    501  \n",
              "17   93    486  \n",
              "18   73    431  \n",
              "19   85    502  \n",
              "20   82    467  \n",
              "21   90    527  \n",
              "22   74    497  \n",
              "23   86    433  \n",
              "24   88    456  \n",
              "25   75    448  "
            ],
            "text/html": [
              "\n",
              "  <div id=\"df-105536b0-0ac6-4ea7-a456-0005cf058e73\">\n",
              "    <div class=\"colab-df-container\">\n",
              "      <div>\n",
              "<style scoped>\n",
              "    .dataframe tbody tr th:only-of-type {\n",
              "        vertical-align: middle;\n",
              "    }\n",
              "\n",
              "    .dataframe tbody tr th {\n",
              "        vertical-align: top;\n",
              "    }\n",
              "\n",
              "    .dataframe thead th {\n",
              "        text-align: right;\n",
              "    }\n",
              "</style>\n",
              "<table border=\"1\" class=\"dataframe\">\n",
              "  <thead>\n",
              "    <tr style=\"text-align: right;\">\n",
              "      <th></th>\n",
              "      <th>Roll No</th>\n",
              "      <th>Student Name</th>\n",
              "      <th>Gender</th>\n",
              "      <th>Python</th>\n",
              "      <th>Java</th>\n",
              "      <th>AI</th>\n",
              "      <th>CG</th>\n",
              "      <th>SE</th>\n",
              "      <th>DHV</th>\n",
              "      <th>Total</th>\n",
              "    </tr>\n",
              "  </thead>\n",
              "  <tbody>\n",
              "    <tr>\n",
              "      <th>0</th>\n",
              "      <td>20201CSG0001</td>\n",
              "      <td>S NAMRATHA</td>\n",
              "      <td>F</td>\n",
              "      <td>99</td>\n",
              "      <td>97</td>\n",
              "      <td>96</td>\n",
              "      <td>71</td>\n",
              "      <td>61</td>\n",
              "      <td>83</td>\n",
              "      <td>507</td>\n",
              "    </tr>\n",
              "    <tr>\n",
              "      <th>1</th>\n",
              "      <td>20201CSG0003</td>\n",
              "      <td>NEHA R</td>\n",
              "      <td>F</td>\n",
              "      <td>75</td>\n",
              "      <td>67</td>\n",
              "      <td>71</td>\n",
              "      <td>95</td>\n",
              "      <td>62</td>\n",
              "      <td>79</td>\n",
              "      <td>449</td>\n",
              "    </tr>\n",
              "    <tr>\n",
              "      <th>2</th>\n",
              "      <td>20201CSG0004</td>\n",
              "      <td>HARSHITHA C</td>\n",
              "      <td>F</td>\n",
              "      <td>96</td>\n",
              "      <td>66</td>\n",
              "      <td>66</td>\n",
              "      <td>60</td>\n",
              "      <td>87</td>\n",
              "      <td>94</td>\n",
              "      <td>469</td>\n",
              "    </tr>\n",
              "    <tr>\n",
              "      <th>3</th>\n",
              "      <td>20201CSG0005</td>\n",
              "      <td>MAHANTH S</td>\n",
              "      <td>F</td>\n",
              "      <td>86</td>\n",
              "      <td>71</td>\n",
              "      <td>92</td>\n",
              "      <td>60</td>\n",
              "      <td>71</td>\n",
              "      <td>90</td>\n",
              "      <td>470</td>\n",
              "    </tr>\n",
              "    <tr>\n",
              "      <th>4</th>\n",
              "      <td>20201CSG0006</td>\n",
              "      <td>RAKSHITHA N</td>\n",
              "      <td>F</td>\n",
              "      <td>92</td>\n",
              "      <td>57</td>\n",
              "      <td>88</td>\n",
              "      <td>83</td>\n",
              "      <td>63</td>\n",
              "      <td>88</td>\n",
              "      <td>471</td>\n",
              "    </tr>\n",
              "    <tr>\n",
              "      <th>5</th>\n",
              "      <td>20201CSG0007</td>\n",
              "      <td>AKHIL R</td>\n",
              "      <td>M</td>\n",
              "      <td>65</td>\n",
              "      <td>85</td>\n",
              "      <td>96</td>\n",
              "      <td>73</td>\n",
              "      <td>95</td>\n",
              "      <td>75</td>\n",
              "      <td>489</td>\n",
              "    </tr>\n",
              "    <tr>\n",
              "      <th>6</th>\n",
              "      <td>20201CSG0008</td>\n",
              "      <td>RAFIYA NUSRATH D</td>\n",
              "      <td>F</td>\n",
              "      <td>66</td>\n",
              "      <td>97</td>\n",
              "      <td>75</td>\n",
              "      <td>84</td>\n",
              "      <td>85</td>\n",
              "      <td>91</td>\n",
              "      <td>498</td>\n",
              "    </tr>\n",
              "    <tr>\n",
              "      <th>7</th>\n",
              "      <td>20201CSG0009</td>\n",
              "      <td>ABHINEET GAUR</td>\n",
              "      <td>M</td>\n",
              "      <td>89</td>\n",
              "      <td>95</td>\n",
              "      <td>82</td>\n",
              "      <td>87</td>\n",
              "      <td>57</td>\n",
              "      <td>95</td>\n",
              "      <td>505</td>\n",
              "    </tr>\n",
              "    <tr>\n",
              "      <th>8</th>\n",
              "      <td>20201CSG0010</td>\n",
              "      <td>DEEKSHITHA S V</td>\n",
              "      <td>F</td>\n",
              "      <td>63</td>\n",
              "      <td>52</td>\n",
              "      <td>93</td>\n",
              "      <td>87</td>\n",
              "      <td>97</td>\n",
              "      <td>73</td>\n",
              "      <td>465</td>\n",
              "    </tr>\n",
              "    <tr>\n",
              "      <th>9</th>\n",
              "      <td>20201CSG0011</td>\n",
              "      <td>R CHARIS SUSANNA</td>\n",
              "      <td>M</td>\n",
              "      <td>76</td>\n",
              "      <td>91</td>\n",
              "      <td>66</td>\n",
              "      <td>72</td>\n",
              "      <td>61</td>\n",
              "      <td>76</td>\n",
              "      <td>442</td>\n",
              "    </tr>\n",
              "    <tr>\n",
              "      <th>10</th>\n",
              "      <td>20201CSG0016</td>\n",
              "      <td>NUTHANA D P</td>\n",
              "      <td>M</td>\n",
              "      <td>90</td>\n",
              "      <td>83</td>\n",
              "      <td>79</td>\n",
              "      <td>82</td>\n",
              "      <td>96</td>\n",
              "      <td>70</td>\n",
              "      <td>500</td>\n",
              "    </tr>\n",
              "    <tr>\n",
              "      <th>11</th>\n",
              "      <td>20201CSG0020</td>\n",
              "      <td>VIRENDAR S OZA</td>\n",
              "      <td>M</td>\n",
              "      <td>67</td>\n",
              "      <td>95</td>\n",
              "      <td>97</td>\n",
              "      <td>72</td>\n",
              "      <td>71</td>\n",
              "      <td>78</td>\n",
              "      <td>480</td>\n",
              "    </tr>\n",
              "    <tr>\n",
              "      <th>12</th>\n",
              "      <td>20201CSG0021</td>\n",
              "      <td>AFSA HOORIYA</td>\n",
              "      <td>F</td>\n",
              "      <td>83</td>\n",
              "      <td>67</td>\n",
              "      <td>72</td>\n",
              "      <td>62</td>\n",
              "      <td>75</td>\n",
              "      <td>79</td>\n",
              "      <td>438</td>\n",
              "    </tr>\n",
              "    <tr>\n",
              "      <th>13</th>\n",
              "      <td>20201CSG0022</td>\n",
              "      <td>CHAITHRA N Y</td>\n",
              "      <td>F</td>\n",
              "      <td>68</td>\n",
              "      <td>80</td>\n",
              "      <td>93</td>\n",
              "      <td>95</td>\n",
              "      <td>97</td>\n",
              "      <td>77</td>\n",
              "      <td>510</td>\n",
              "    </tr>\n",
              "    <tr>\n",
              "      <th>14</th>\n",
              "      <td>20201CSG0023</td>\n",
              "      <td>GAGAN GANAPATHY B B</td>\n",
              "      <td>M</td>\n",
              "      <td>60</td>\n",
              "      <td>81</td>\n",
              "      <td>92</td>\n",
              "      <td>77</td>\n",
              "      <td>100</td>\n",
              "      <td>91</td>\n",
              "      <td>501</td>\n",
              "    </tr>\n",
              "    <tr>\n",
              "      <th>15</th>\n",
              "      <td>20201CSG0025</td>\n",
              "      <td>JAYANTH S R</td>\n",
              "      <td>M</td>\n",
              "      <td>73</td>\n",
              "      <td>77</td>\n",
              "      <td>92</td>\n",
              "      <td>93</td>\n",
              "      <td>54</td>\n",
              "      <td>100</td>\n",
              "      <td>489</td>\n",
              "    </tr>\n",
              "    <tr>\n",
              "      <th>16</th>\n",
              "      <td>20201CSG0026</td>\n",
              "      <td>PRAJWAL P</td>\n",
              "      <td>M</td>\n",
              "      <td>93</td>\n",
              "      <td>53</td>\n",
              "      <td>97</td>\n",
              "      <td>90</td>\n",
              "      <td>98</td>\n",
              "      <td>70</td>\n",
              "      <td>501</td>\n",
              "    </tr>\n",
              "    <tr>\n",
              "      <th>17</th>\n",
              "      <td>20201CSG0027</td>\n",
              "      <td>PRAMOD N</td>\n",
              "      <td>M</td>\n",
              "      <td>91</td>\n",
              "      <td>77</td>\n",
              "      <td>74</td>\n",
              "      <td>75</td>\n",
              "      <td>76</td>\n",
              "      <td>93</td>\n",
              "      <td>486</td>\n",
              "    </tr>\n",
              "    <tr>\n",
              "      <th>18</th>\n",
              "      <td>20201CSG0029</td>\n",
              "      <td>SHARAJ O V</td>\n",
              "      <td>M</td>\n",
              "      <td>74</td>\n",
              "      <td>57</td>\n",
              "      <td>80</td>\n",
              "      <td>62</td>\n",
              "      <td>85</td>\n",
              "      <td>73</td>\n",
              "      <td>431</td>\n",
              "    </tr>\n",
              "    <tr>\n",
              "      <th>19</th>\n",
              "      <td>20201CSG0030</td>\n",
              "      <td>SURAJ KUMAR TRIPATHY</td>\n",
              "      <td>M</td>\n",
              "      <td>67</td>\n",
              "      <td>76</td>\n",
              "      <td>81</td>\n",
              "      <td>94</td>\n",
              "      <td>99</td>\n",
              "      <td>85</td>\n",
              "      <td>502</td>\n",
              "    </tr>\n",
              "    <tr>\n",
              "      <th>20</th>\n",
              "      <td>20201CSG0032</td>\n",
              "      <td>CHANDANA M S</td>\n",
              "      <td>F</td>\n",
              "      <td>92</td>\n",
              "      <td>75</td>\n",
              "      <td>83</td>\n",
              "      <td>70</td>\n",
              "      <td>65</td>\n",
              "      <td>82</td>\n",
              "      <td>467</td>\n",
              "    </tr>\n",
              "    <tr>\n",
              "      <th>21</th>\n",
              "      <td>20201CSG0033</td>\n",
              "      <td>ADIB MOHAMMED HAGALWADI</td>\n",
              "      <td>M</td>\n",
              "      <td>98</td>\n",
              "      <td>90</td>\n",
              "      <td>95</td>\n",
              "      <td>69</td>\n",
              "      <td>85</td>\n",
              "      <td>90</td>\n",
              "      <td>527</td>\n",
              "    </tr>\n",
              "    <tr>\n",
              "      <th>22</th>\n",
              "      <td>20201CSG0034</td>\n",
              "      <td>SAIMITHUN B</td>\n",
              "      <td>F</td>\n",
              "      <td>87</td>\n",
              "      <td>58</td>\n",
              "      <td>99</td>\n",
              "      <td>88</td>\n",
              "      <td>91</td>\n",
              "      <td>74</td>\n",
              "      <td>497</td>\n",
              "    </tr>\n",
              "    <tr>\n",
              "      <th>23</th>\n",
              "      <td>20201CSG0035</td>\n",
              "      <td>VAISHALI V</td>\n",
              "      <td>F</td>\n",
              "      <td>87</td>\n",
              "      <td>60</td>\n",
              "      <td>67</td>\n",
              "      <td>68</td>\n",
              "      <td>65</td>\n",
              "      <td>86</td>\n",
              "      <td>433</td>\n",
              "    </tr>\n",
              "    <tr>\n",
              "      <th>24</th>\n",
              "      <td>20201CSG0036</td>\n",
              "      <td>MEGHANA M</td>\n",
              "      <td>F</td>\n",
              "      <td>98</td>\n",
              "      <td>56</td>\n",
              "      <td>96</td>\n",
              "      <td>67</td>\n",
              "      <td>51</td>\n",
              "      <td>88</td>\n",
              "      <td>456</td>\n",
              "    </tr>\n",
              "    <tr>\n",
              "      <th>25</th>\n",
              "      <td>20201CSG0038</td>\n",
              "      <td>AMRUTHA UDAY</td>\n",
              "      <td>F</td>\n",
              "      <td>70</td>\n",
              "      <td>86</td>\n",
              "      <td>68</td>\n",
              "      <td>64</td>\n",
              "      <td>85</td>\n",
              "      <td>75</td>\n",
              "      <td>448</td>\n",
              "    </tr>\n",
              "  </tbody>\n",
              "</table>\n",
              "</div>\n",
              "      <button class=\"colab-df-convert\" onclick=\"convertToInteractive('df-105536b0-0ac6-4ea7-a456-0005cf058e73')\"\n",
              "              title=\"Convert this dataframe to an interactive table.\"\n",
              "              style=\"display:none;\">\n",
              "        \n",
              "  <svg xmlns=\"http://www.w3.org/2000/svg\" height=\"24px\"viewBox=\"0 0 24 24\"\n",
              "       width=\"24px\">\n",
              "    <path d=\"M0 0h24v24H0V0z\" fill=\"none\"/>\n",
              "    <path d=\"M18.56 5.44l.94 2.06.94-2.06 2.06-.94-2.06-.94-.94-2.06-.94 2.06-2.06.94zm-11 1L8.5 8.5l.94-2.06 2.06-.94-2.06-.94L8.5 2.5l-.94 2.06-2.06.94zm10 10l.94 2.06.94-2.06 2.06-.94-2.06-.94-.94-2.06-.94 2.06-2.06.94z\"/><path d=\"M17.41 7.96l-1.37-1.37c-.4-.4-.92-.59-1.43-.59-.52 0-1.04.2-1.43.59L10.3 9.45l-7.72 7.72c-.78.78-.78 2.05 0 2.83L4 21.41c.39.39.9.59 1.41.59.51 0 1.02-.2 1.41-.59l7.78-7.78 2.81-2.81c.8-.78.8-2.07 0-2.86zM5.41 20L4 18.59l7.72-7.72 1.47 1.35L5.41 20z\"/>\n",
              "  </svg>\n",
              "      </button>\n",
              "      \n",
              "  <style>\n",
              "    .colab-df-container {\n",
              "      display:flex;\n",
              "      flex-wrap:wrap;\n",
              "      gap: 12px;\n",
              "    }\n",
              "\n",
              "    .colab-df-convert {\n",
              "      background-color: #E8F0FE;\n",
              "      border: none;\n",
              "      border-radius: 50%;\n",
              "      cursor: pointer;\n",
              "      display: none;\n",
              "      fill: #1967D2;\n",
              "      height: 32px;\n",
              "      padding: 0 0 0 0;\n",
              "      width: 32px;\n",
              "    }\n",
              "\n",
              "    .colab-df-convert:hover {\n",
              "      background-color: #E2EBFA;\n",
              "      box-shadow: 0px 1px 2px rgba(60, 64, 67, 0.3), 0px 1px 3px 1px rgba(60, 64, 67, 0.15);\n",
              "      fill: #174EA6;\n",
              "    }\n",
              "\n",
              "    [theme=dark] .colab-df-convert {\n",
              "      background-color: #3B4455;\n",
              "      fill: #D2E3FC;\n",
              "    }\n",
              "\n",
              "    [theme=dark] .colab-df-convert:hover {\n",
              "      background-color: #434B5C;\n",
              "      box-shadow: 0px 1px 3px 1px rgba(0, 0, 0, 0.15);\n",
              "      filter: drop-shadow(0px 1px 2px rgba(0, 0, 0, 0.3));\n",
              "      fill: #FFFFFF;\n",
              "    }\n",
              "  </style>\n",
              "\n",
              "      <script>\n",
              "        const buttonEl =\n",
              "          document.querySelector('#df-105536b0-0ac6-4ea7-a456-0005cf058e73 button.colab-df-convert');\n",
              "        buttonEl.style.display =\n",
              "          google.colab.kernel.accessAllowed ? 'block' : 'none';\n",
              "\n",
              "        async function convertToInteractive(key) {\n",
              "          const element = document.querySelector('#df-105536b0-0ac6-4ea7-a456-0005cf058e73');\n",
              "          const dataTable =\n",
              "            await google.colab.kernel.invokeFunction('convertToInteractive',\n",
              "                                                     [key], {});\n",
              "          if (!dataTable) return;\n",
              "\n",
              "          const docLinkHtml = 'Like what you see? Visit the ' +\n",
              "            '<a target=\"_blank\" href=https://colab.research.google.com/notebooks/data_table.ipynb>data table notebook</a>'\n",
              "            + ' to learn more about interactive tables.';\n",
              "          element.innerHTML = '';\n",
              "          dataTable['output_type'] = 'display_data';\n",
              "          await google.colab.output.renderOutput(dataTable, element);\n",
              "          const docLink = document.createElement('div');\n",
              "          docLink.innerHTML = docLinkHtml;\n",
              "          element.appendChild(docLink);\n",
              "        }\n",
              "      </script>\n",
              "    </div>\n",
              "  </div>\n",
              "  "
            ]
          },
          "metadata": {},
          "execution_count": 47
        }
      ]
    },
    {
      "cell_type": "code",
      "source": [
        "#Display a few first records\n",
        "df.head(10)"
      ],
      "metadata": {
        "id": "wqF35ekzlmKC",
        "colab": {
          "base_uri": "https://localhost:8080/",
          "height": 363
        },
        "outputId": "c4a36f0e-68cb-49fe-a257-5806108447cc"
      },
      "execution_count": null,
      "outputs": [
        {
          "output_type": "execute_result",
          "data": {
            "text/plain": [
              "         Roll No       Student Name Gender  Python   Java  AI  CG  SE  DHV  \\\n",
              "0   20201CSG0001         S NAMRATHA      F       99    97  96  71  61   83   \n",
              "1   20201CSG0003             NEHA R      F       75    67  71  95  62   79   \n",
              "2   20201CSG0004        HARSHITHA C      F       96    66  66  60  87   94   \n",
              "3   20201CSG0005          MAHANTH S      F       86    71  92  60  71   90   \n",
              "4   20201CSG0006        RAKSHITHA N      F       92    57  88  83  63   88   \n",
              "5   20201CSG0007            AKHIL R      M       65    85  96  73  95   75   \n",
              "6   20201CSG0008   RAFIYA NUSRATH D      F       66    97  75  84  85   91   \n",
              "7   20201CSG0009      ABHINEET GAUR      M       89    95  82  87  57   95   \n",
              "8   20201CSG0010     DEEKSHITHA S V      F       63    52  93  87  97   73   \n",
              "9   20201CSG0011   R CHARIS SUSANNA      M       76    91  66  72  61   76   \n",
              "\n",
              "   Total  \n",
              "0    507  \n",
              "1    449  \n",
              "2    469  \n",
              "3    470  \n",
              "4    471  \n",
              "5    489  \n",
              "6    498  \n",
              "7    505  \n",
              "8    465  \n",
              "9    442  "
            ],
            "text/html": [
              "\n",
              "  <div id=\"df-74e8109c-fc38-4061-b767-10b79572d260\">\n",
              "    <div class=\"colab-df-container\">\n",
              "      <div>\n",
              "<style scoped>\n",
              "    .dataframe tbody tr th:only-of-type {\n",
              "        vertical-align: middle;\n",
              "    }\n",
              "\n",
              "    .dataframe tbody tr th {\n",
              "        vertical-align: top;\n",
              "    }\n",
              "\n",
              "    .dataframe thead th {\n",
              "        text-align: right;\n",
              "    }\n",
              "</style>\n",
              "<table border=\"1\" class=\"dataframe\">\n",
              "  <thead>\n",
              "    <tr style=\"text-align: right;\">\n",
              "      <th></th>\n",
              "      <th>Roll No</th>\n",
              "      <th>Student Name</th>\n",
              "      <th>Gender</th>\n",
              "      <th>Python</th>\n",
              "      <th>Java</th>\n",
              "      <th>AI</th>\n",
              "      <th>CG</th>\n",
              "      <th>SE</th>\n",
              "      <th>DHV</th>\n",
              "      <th>Total</th>\n",
              "    </tr>\n",
              "  </thead>\n",
              "  <tbody>\n",
              "    <tr>\n",
              "      <th>0</th>\n",
              "      <td>20201CSG0001</td>\n",
              "      <td>S NAMRATHA</td>\n",
              "      <td>F</td>\n",
              "      <td>99</td>\n",
              "      <td>97</td>\n",
              "      <td>96</td>\n",
              "      <td>71</td>\n",
              "      <td>61</td>\n",
              "      <td>83</td>\n",
              "      <td>507</td>\n",
              "    </tr>\n",
              "    <tr>\n",
              "      <th>1</th>\n",
              "      <td>20201CSG0003</td>\n",
              "      <td>NEHA R</td>\n",
              "      <td>F</td>\n",
              "      <td>75</td>\n",
              "      <td>67</td>\n",
              "      <td>71</td>\n",
              "      <td>95</td>\n",
              "      <td>62</td>\n",
              "      <td>79</td>\n",
              "      <td>449</td>\n",
              "    </tr>\n",
              "    <tr>\n",
              "      <th>2</th>\n",
              "      <td>20201CSG0004</td>\n",
              "      <td>HARSHITHA C</td>\n",
              "      <td>F</td>\n",
              "      <td>96</td>\n",
              "      <td>66</td>\n",
              "      <td>66</td>\n",
              "      <td>60</td>\n",
              "      <td>87</td>\n",
              "      <td>94</td>\n",
              "      <td>469</td>\n",
              "    </tr>\n",
              "    <tr>\n",
              "      <th>3</th>\n",
              "      <td>20201CSG0005</td>\n",
              "      <td>MAHANTH S</td>\n",
              "      <td>F</td>\n",
              "      <td>86</td>\n",
              "      <td>71</td>\n",
              "      <td>92</td>\n",
              "      <td>60</td>\n",
              "      <td>71</td>\n",
              "      <td>90</td>\n",
              "      <td>470</td>\n",
              "    </tr>\n",
              "    <tr>\n",
              "      <th>4</th>\n",
              "      <td>20201CSG0006</td>\n",
              "      <td>RAKSHITHA N</td>\n",
              "      <td>F</td>\n",
              "      <td>92</td>\n",
              "      <td>57</td>\n",
              "      <td>88</td>\n",
              "      <td>83</td>\n",
              "      <td>63</td>\n",
              "      <td>88</td>\n",
              "      <td>471</td>\n",
              "    </tr>\n",
              "    <tr>\n",
              "      <th>5</th>\n",
              "      <td>20201CSG0007</td>\n",
              "      <td>AKHIL R</td>\n",
              "      <td>M</td>\n",
              "      <td>65</td>\n",
              "      <td>85</td>\n",
              "      <td>96</td>\n",
              "      <td>73</td>\n",
              "      <td>95</td>\n",
              "      <td>75</td>\n",
              "      <td>489</td>\n",
              "    </tr>\n",
              "    <tr>\n",
              "      <th>6</th>\n",
              "      <td>20201CSG0008</td>\n",
              "      <td>RAFIYA NUSRATH D</td>\n",
              "      <td>F</td>\n",
              "      <td>66</td>\n",
              "      <td>97</td>\n",
              "      <td>75</td>\n",
              "      <td>84</td>\n",
              "      <td>85</td>\n",
              "      <td>91</td>\n",
              "      <td>498</td>\n",
              "    </tr>\n",
              "    <tr>\n",
              "      <th>7</th>\n",
              "      <td>20201CSG0009</td>\n",
              "      <td>ABHINEET GAUR</td>\n",
              "      <td>M</td>\n",
              "      <td>89</td>\n",
              "      <td>95</td>\n",
              "      <td>82</td>\n",
              "      <td>87</td>\n",
              "      <td>57</td>\n",
              "      <td>95</td>\n",
              "      <td>505</td>\n",
              "    </tr>\n",
              "    <tr>\n",
              "      <th>8</th>\n",
              "      <td>20201CSG0010</td>\n",
              "      <td>DEEKSHITHA S V</td>\n",
              "      <td>F</td>\n",
              "      <td>63</td>\n",
              "      <td>52</td>\n",
              "      <td>93</td>\n",
              "      <td>87</td>\n",
              "      <td>97</td>\n",
              "      <td>73</td>\n",
              "      <td>465</td>\n",
              "    </tr>\n",
              "    <tr>\n",
              "      <th>9</th>\n",
              "      <td>20201CSG0011</td>\n",
              "      <td>R CHARIS SUSANNA</td>\n",
              "      <td>M</td>\n",
              "      <td>76</td>\n",
              "      <td>91</td>\n",
              "      <td>66</td>\n",
              "      <td>72</td>\n",
              "      <td>61</td>\n",
              "      <td>76</td>\n",
              "      <td>442</td>\n",
              "    </tr>\n",
              "  </tbody>\n",
              "</table>\n",
              "</div>\n",
              "      <button class=\"colab-df-convert\" onclick=\"convertToInteractive('df-74e8109c-fc38-4061-b767-10b79572d260')\"\n",
              "              title=\"Convert this dataframe to an interactive table.\"\n",
              "              style=\"display:none;\">\n",
              "        \n",
              "  <svg xmlns=\"http://www.w3.org/2000/svg\" height=\"24px\"viewBox=\"0 0 24 24\"\n",
              "       width=\"24px\">\n",
              "    <path d=\"M0 0h24v24H0V0z\" fill=\"none\"/>\n",
              "    <path d=\"M18.56 5.44l.94 2.06.94-2.06 2.06-.94-2.06-.94-.94-2.06-.94 2.06-2.06.94zm-11 1L8.5 8.5l.94-2.06 2.06-.94-2.06-.94L8.5 2.5l-.94 2.06-2.06.94zm10 10l.94 2.06.94-2.06 2.06-.94-2.06-.94-.94-2.06-.94 2.06-2.06.94z\"/><path d=\"M17.41 7.96l-1.37-1.37c-.4-.4-.92-.59-1.43-.59-.52 0-1.04.2-1.43.59L10.3 9.45l-7.72 7.72c-.78.78-.78 2.05 0 2.83L4 21.41c.39.39.9.59 1.41.59.51 0 1.02-.2 1.41-.59l7.78-7.78 2.81-2.81c.8-.78.8-2.07 0-2.86zM5.41 20L4 18.59l7.72-7.72 1.47 1.35L5.41 20z\"/>\n",
              "  </svg>\n",
              "      </button>\n",
              "      \n",
              "  <style>\n",
              "    .colab-df-container {\n",
              "      display:flex;\n",
              "      flex-wrap:wrap;\n",
              "      gap: 12px;\n",
              "    }\n",
              "\n",
              "    .colab-df-convert {\n",
              "      background-color: #E8F0FE;\n",
              "      border: none;\n",
              "      border-radius: 50%;\n",
              "      cursor: pointer;\n",
              "      display: none;\n",
              "      fill: #1967D2;\n",
              "      height: 32px;\n",
              "      padding: 0 0 0 0;\n",
              "      width: 32px;\n",
              "    }\n",
              "\n",
              "    .colab-df-convert:hover {\n",
              "      background-color: #E2EBFA;\n",
              "      box-shadow: 0px 1px 2px rgba(60, 64, 67, 0.3), 0px 1px 3px 1px rgba(60, 64, 67, 0.15);\n",
              "      fill: #174EA6;\n",
              "    }\n",
              "\n",
              "    [theme=dark] .colab-df-convert {\n",
              "      background-color: #3B4455;\n",
              "      fill: #D2E3FC;\n",
              "    }\n",
              "\n",
              "    [theme=dark] .colab-df-convert:hover {\n",
              "      background-color: #434B5C;\n",
              "      box-shadow: 0px 1px 3px 1px rgba(0, 0, 0, 0.15);\n",
              "      filter: drop-shadow(0px 1px 2px rgba(0, 0, 0, 0.3));\n",
              "      fill: #FFFFFF;\n",
              "    }\n",
              "  </style>\n",
              "\n",
              "      <script>\n",
              "        const buttonEl =\n",
              "          document.querySelector('#df-74e8109c-fc38-4061-b767-10b79572d260 button.colab-df-convert');\n",
              "        buttonEl.style.display =\n",
              "          google.colab.kernel.accessAllowed ? 'block' : 'none';\n",
              "\n",
              "        async function convertToInteractive(key) {\n",
              "          const element = document.querySelector('#df-74e8109c-fc38-4061-b767-10b79572d260');\n",
              "          const dataTable =\n",
              "            await google.colab.kernel.invokeFunction('convertToInteractive',\n",
              "                                                     [key], {});\n",
              "          if (!dataTable) return;\n",
              "\n",
              "          const docLinkHtml = 'Like what you see? Visit the ' +\n",
              "            '<a target=\"_blank\" href=https://colab.research.google.com/notebooks/data_table.ipynb>data table notebook</a>'\n",
              "            + ' to learn more about interactive tables.';\n",
              "          element.innerHTML = '';\n",
              "          dataTable['output_type'] = 'display_data';\n",
              "          await google.colab.output.renderOutput(dataTable, element);\n",
              "          const docLink = document.createElement('div');\n",
              "          docLink.innerHTML = docLinkHtml;\n",
              "          element.appendChild(docLink);\n",
              "        }\n",
              "      </script>\n",
              "    </div>\n",
              "  </div>\n",
              "  "
            ]
          },
          "metadata": {},
          "execution_count": 49
        }
      ]
    },
    {
      "cell_type": "code",
      "source": [
        "# Display structure of the data frame\n",
        "df.info()"
      ],
      "metadata": {
        "id": "704fYejtlmOR",
        "colab": {
          "base_uri": "https://localhost:8080/"
        },
        "outputId": "6d4b71b0-0b32-4034-c2c1-9589f85e88c8"
      },
      "execution_count": null,
      "outputs": [
        {
          "output_type": "stream",
          "name": "stdout",
          "text": [
            "<class 'pandas.core.frame.DataFrame'>\n",
            "RangeIndex: 26 entries, 0 to 25\n",
            "Data columns (total 10 columns):\n",
            " #   Column        Non-Null Count  Dtype \n",
            "---  ------        --------------  ----- \n",
            " 0   Roll No       26 non-null     object\n",
            " 1   Student Name  26 non-null     object\n",
            " 2   Gender        26 non-null     object\n",
            " 3   Python        26 non-null     int64 \n",
            " 4   Java          26 non-null     int64 \n",
            " 5   AI            26 non-null     int64 \n",
            " 6   CG            26 non-null     int64 \n",
            " 7   SE            26 non-null     int64 \n",
            " 8   DHV           26 non-null     int64 \n",
            " 9   Total         26 non-null     int64 \n",
            "dtypes: int64(7), object(3)\n",
            "memory usage: 2.2+ KB\n"
          ]
        }
      ]
    },
    {
      "cell_type": "code",
      "source": [
        "#Total number of elements in the Data Frame\n",
        "df.size"
      ],
      "metadata": {
        "id": "pjSfVQuUlmW1",
        "colab": {
          "base_uri": "https://localhost:8080/"
        },
        "outputId": "a455da0f-1699-4f90-87ad-2e93b1e6eb3b"
      },
      "execution_count": null,
      "outputs": [
        {
          "output_type": "execute_result",
          "data": {
            "text/plain": [
              "260"
            ]
          },
          "metadata": {},
          "execution_count": 51
        }
      ]
    },
    {
      "cell_type": "code",
      "source": [
        "#Number of rows and columns\n",
        "df.shape"
      ],
      "metadata": {
        "id": "A7Ub3KeQl7v2",
        "colab": {
          "base_uri": "https://localhost:8080/"
        },
        "outputId": "5967f4b5-a9a2-42dd-a3d3-458411f3d501"
      },
      "execution_count": null,
      "outputs": [
        {
          "output_type": "execute_result",
          "data": {
            "text/plain": [
              "(26, 10)"
            ]
          },
          "metadata": {},
          "execution_count": 52
        }
      ]
    },
    {
      "cell_type": "code",
      "source": [
        "#Output basic statistics for the numeric columns\n",
        "df.describe()"
      ],
      "metadata": {
        "id": "QZXGQovtl7zq",
        "colab": {
          "base_uri": "https://localhost:8080/",
          "height": 300
        },
        "outputId": "08d0a357-3e78-4136-e3b0-8833c0cb0e87"
      },
      "execution_count": null,
      "outputs": [
        {
          "output_type": "execute_result",
          "data": {
            "text/plain": [
              "         Python        Java         AI         CG          SE         DHV  \\\n",
              "count  26.000000  26.000000  26.000000  26.000000   26.000000   26.000000   \n",
              "mean   80.961538  74.961538  84.230769  76.923077   78.153846   82.884615   \n",
              "std    12.587234  14.649180  11.360661  11.644477   15.949150    8.561901   \n",
              "min    60.000000  52.000000  66.000000  60.000000   51.000000   70.000000   \n",
              "25%    68.500000  61.500000  74.250000  68.250000   63.500000   75.250000   \n",
              "50%    84.500000  76.500000  85.500000  74.000000   80.500000   82.500000   \n",
              "75%    91.750000  85.750000  94.500000  87.000000   94.000000   90.000000   \n",
              "max    99.000000  97.000000  99.000000  95.000000  100.000000  100.000000   \n",
              "\n",
              "            Total  \n",
              "count   26.000000  \n",
              "mean   478.115385  \n",
              "std     26.849696  \n",
              "min    431.000000  \n",
              "25%    458.250000  \n",
              "50%    483.000000  \n",
              "75%    500.750000  \n",
              "max    527.000000  "
            ],
            "text/html": [
              "\n",
              "  <div id=\"df-5b1e1db3-4571-43c4-beab-03eec36205e3\">\n",
              "    <div class=\"colab-df-container\">\n",
              "      <div>\n",
              "<style scoped>\n",
              "    .dataframe tbody tr th:only-of-type {\n",
              "        vertical-align: middle;\n",
              "    }\n",
              "\n",
              "    .dataframe tbody tr th {\n",
              "        vertical-align: top;\n",
              "    }\n",
              "\n",
              "    .dataframe thead th {\n",
              "        text-align: right;\n",
              "    }\n",
              "</style>\n",
              "<table border=\"1\" class=\"dataframe\">\n",
              "  <thead>\n",
              "    <tr style=\"text-align: right;\">\n",
              "      <th></th>\n",
              "      <th>Python</th>\n",
              "      <th>Java</th>\n",
              "      <th>AI</th>\n",
              "      <th>CG</th>\n",
              "      <th>SE</th>\n",
              "      <th>DHV</th>\n",
              "      <th>Total</th>\n",
              "    </tr>\n",
              "  </thead>\n",
              "  <tbody>\n",
              "    <tr>\n",
              "      <th>count</th>\n",
              "      <td>26.000000</td>\n",
              "      <td>26.000000</td>\n",
              "      <td>26.000000</td>\n",
              "      <td>26.000000</td>\n",
              "      <td>26.000000</td>\n",
              "      <td>26.000000</td>\n",
              "      <td>26.000000</td>\n",
              "    </tr>\n",
              "    <tr>\n",
              "      <th>mean</th>\n",
              "      <td>80.961538</td>\n",
              "      <td>74.961538</td>\n",
              "      <td>84.230769</td>\n",
              "      <td>76.923077</td>\n",
              "      <td>78.153846</td>\n",
              "      <td>82.884615</td>\n",
              "      <td>478.115385</td>\n",
              "    </tr>\n",
              "    <tr>\n",
              "      <th>std</th>\n",
              "      <td>12.587234</td>\n",
              "      <td>14.649180</td>\n",
              "      <td>11.360661</td>\n",
              "      <td>11.644477</td>\n",
              "      <td>15.949150</td>\n",
              "      <td>8.561901</td>\n",
              "      <td>26.849696</td>\n",
              "    </tr>\n",
              "    <tr>\n",
              "      <th>min</th>\n",
              "      <td>60.000000</td>\n",
              "      <td>52.000000</td>\n",
              "      <td>66.000000</td>\n",
              "      <td>60.000000</td>\n",
              "      <td>51.000000</td>\n",
              "      <td>70.000000</td>\n",
              "      <td>431.000000</td>\n",
              "    </tr>\n",
              "    <tr>\n",
              "      <th>25%</th>\n",
              "      <td>68.500000</td>\n",
              "      <td>61.500000</td>\n",
              "      <td>74.250000</td>\n",
              "      <td>68.250000</td>\n",
              "      <td>63.500000</td>\n",
              "      <td>75.250000</td>\n",
              "      <td>458.250000</td>\n",
              "    </tr>\n",
              "    <tr>\n",
              "      <th>50%</th>\n",
              "      <td>84.500000</td>\n",
              "      <td>76.500000</td>\n",
              "      <td>85.500000</td>\n",
              "      <td>74.000000</td>\n",
              "      <td>80.500000</td>\n",
              "      <td>82.500000</td>\n",
              "      <td>483.000000</td>\n",
              "    </tr>\n",
              "    <tr>\n",
              "      <th>75%</th>\n",
              "      <td>91.750000</td>\n",
              "      <td>85.750000</td>\n",
              "      <td>94.500000</td>\n",
              "      <td>87.000000</td>\n",
              "      <td>94.000000</td>\n",
              "      <td>90.000000</td>\n",
              "      <td>500.750000</td>\n",
              "    </tr>\n",
              "    <tr>\n",
              "      <th>max</th>\n",
              "      <td>99.000000</td>\n",
              "      <td>97.000000</td>\n",
              "      <td>99.000000</td>\n",
              "      <td>95.000000</td>\n",
              "      <td>100.000000</td>\n",
              "      <td>100.000000</td>\n",
              "      <td>527.000000</td>\n",
              "    </tr>\n",
              "  </tbody>\n",
              "</table>\n",
              "</div>\n",
              "      <button class=\"colab-df-convert\" onclick=\"convertToInteractive('df-5b1e1db3-4571-43c4-beab-03eec36205e3')\"\n",
              "              title=\"Convert this dataframe to an interactive table.\"\n",
              "              style=\"display:none;\">\n",
              "        \n",
              "  <svg xmlns=\"http://www.w3.org/2000/svg\" height=\"24px\"viewBox=\"0 0 24 24\"\n",
              "       width=\"24px\">\n",
              "    <path d=\"M0 0h24v24H0V0z\" fill=\"none\"/>\n",
              "    <path d=\"M18.56 5.44l.94 2.06.94-2.06 2.06-.94-2.06-.94-.94-2.06-.94 2.06-2.06.94zm-11 1L8.5 8.5l.94-2.06 2.06-.94-2.06-.94L8.5 2.5l-.94 2.06-2.06.94zm10 10l.94 2.06.94-2.06 2.06-.94-2.06-.94-.94-2.06-.94 2.06-2.06.94z\"/><path d=\"M17.41 7.96l-1.37-1.37c-.4-.4-.92-.59-1.43-.59-.52 0-1.04.2-1.43.59L10.3 9.45l-7.72 7.72c-.78.78-.78 2.05 0 2.83L4 21.41c.39.39.9.59 1.41.59.51 0 1.02-.2 1.41-.59l7.78-7.78 2.81-2.81c.8-.78.8-2.07 0-2.86zM5.41 20L4 18.59l7.72-7.72 1.47 1.35L5.41 20z\"/>\n",
              "  </svg>\n",
              "      </button>\n",
              "      \n",
              "  <style>\n",
              "    .colab-df-container {\n",
              "      display:flex;\n",
              "      flex-wrap:wrap;\n",
              "      gap: 12px;\n",
              "    }\n",
              "\n",
              "    .colab-df-convert {\n",
              "      background-color: #E8F0FE;\n",
              "      border: none;\n",
              "      border-radius: 50%;\n",
              "      cursor: pointer;\n",
              "      display: none;\n",
              "      fill: #1967D2;\n",
              "      height: 32px;\n",
              "      padding: 0 0 0 0;\n",
              "      width: 32px;\n",
              "    }\n",
              "\n",
              "    .colab-df-convert:hover {\n",
              "      background-color: #E2EBFA;\n",
              "      box-shadow: 0px 1px 2px rgba(60, 64, 67, 0.3), 0px 1px 3px 1px rgba(60, 64, 67, 0.15);\n",
              "      fill: #174EA6;\n",
              "    }\n",
              "\n",
              "    [theme=dark] .colab-df-convert {\n",
              "      background-color: #3B4455;\n",
              "      fill: #D2E3FC;\n",
              "    }\n",
              "\n",
              "    [theme=dark] .colab-df-convert:hover {\n",
              "      background-color: #434B5C;\n",
              "      box-shadow: 0px 1px 3px 1px rgba(0, 0, 0, 0.15);\n",
              "      filter: drop-shadow(0px 1px 2px rgba(0, 0, 0, 0.3));\n",
              "      fill: #FFFFFF;\n",
              "    }\n",
              "  </style>\n",
              "\n",
              "      <script>\n",
              "        const buttonEl =\n",
              "          document.querySelector('#df-5b1e1db3-4571-43c4-beab-03eec36205e3 button.colab-df-convert');\n",
              "        buttonEl.style.display =\n",
              "          google.colab.kernel.accessAllowed ? 'block' : 'none';\n",
              "\n",
              "        async function convertToInteractive(key) {\n",
              "          const element = document.querySelector('#df-5b1e1db3-4571-43c4-beab-03eec36205e3');\n",
              "          const dataTable =\n",
              "            await google.colab.kernel.invokeFunction('convertToInteractive',\n",
              "                                                     [key], {});\n",
              "          if (!dataTable) return;\n",
              "\n",
              "          const docLinkHtml = 'Like what you see? Visit the ' +\n",
              "            '<a target=\"_blank\" href=https://colab.research.google.com/notebooks/data_table.ipynb>data table notebook</a>'\n",
              "            + ' to learn more about interactive tables.';\n",
              "          element.innerHTML = '';\n",
              "          dataTable['output_type'] = 'display_data';\n",
              "          await google.colab.output.renderOutput(dataTable, element);\n",
              "          const docLink = document.createElement('div');\n",
              "          docLink.innerHTML = docLinkHtml;\n",
              "          element.appendChild(docLink);\n",
              "        }\n",
              "      </script>\n",
              "    </div>\n",
              "  </div>\n",
              "  "
            ]
          },
          "metadata": {},
          "execution_count": 53
        }
      ]
    },
    {
      "cell_type": "code",
      "source": [
        "#Show graphs withint Python notebook\n",
        "%matplotlib inline"
      ],
      "metadata": {
        "id": "v1ePSALFl75W"
      },
      "execution_count": null,
      "outputs": []
    },
    {
      "cell_type": "code",
      "source": [
        "#Use matplotlib to draw a histogram of a salary data\n",
        "plt.hist(df['Total'],bins=20, density=False)"
      ],
      "metadata": {
        "id": "Qedef2cLmG88",
        "colab": {
          "base_uri": "https://localhost:8080/",
          "height": 369
        },
        "outputId": "1d6aa6b3-eef9-4045-936b-c1b98e519870"
      },
      "execution_count": null,
      "outputs": [
        {
          "output_type": "execute_result",
          "data": {
            "text/plain": [
              "(array([2., 1., 1., 2., 0., 1., 0., 3., 2., 0., 1., 1., 2., 2., 4., 2., 1.,\n",
              "        0., 0., 1.]),\n",
              " array([431. , 435.8, 440.6, 445.4, 450.2, 455. , 459.8, 464.6, 469.4,\n",
              "        474.2, 479. , 483.8, 488.6, 493.4, 498.2, 503. , 507.8, 512.6,\n",
              "        517.4, 522.2, 527. ]),\n",
              " <a list of 20 Patch objects>)"
            ]
          },
          "metadata": {},
          "execution_count": 55
        },
        {
          "output_type": "display_data",
          "data": {
            "text/plain": [
              "<Figure size 432x288 with 1 Axes>"
            ],
            "image/png": "[encoded data removed]"
          },
          "metadata": {
            "needs_background": "light"
          }
        }
      ]
    },
    {
      "cell_type": "code",
      "source": [
        "#Use seaborn package to draw a histogram\n",
        "sns.distplot(df['Total']);"
      ],
      "metadata": {
        "id": "4-ffb3-PmHAX",
        "colab": {
          "base_uri": "https://localhost:8080/",
          "height": 334
        },
        "outputId": "e7f0e041-148a-43b3-b086-c753c284379d"
      },
      "execution_count": null,
      "outputs": [
        {
          "output_type": "stream",
          "name": "stderr",
          "text": [
            "/usr/local/lib/python3.8/dist-packages/seaborn/distributions.py:2619: FutureWarning: `distplot` is a deprecated function and will be removed in a future version. Please adapt your code to use either `displot` (a figure-level function with similar flexibility) or `histplot` (an axes-level function for histograms).\n",
            "  warnings.warn(msg, FutureWarning)\n"
          ]
        },
        {
          "output_type": "display_data",
          "data": {
            "text/plain": [
              "<Figure size 432x288 with 1 Axes>"
            ],
            "image/png": "[encoded data removed]"
          },
          "metadata": {
            "needs_background": "light"
          }
        }
      ]
    },
    {
      "cell_type": "code",
      "source": [
        "# Use regular matplotlib function to display a barplot\n",
        "df.groupby(['Java'])['Total'].count().plot(kind='bar')"
      ],
      "metadata": {
        "id": "vVICvLGAmHDs",
        "colab": {
          "base_uri": "https://localhost:8080/",
          "height": 299
        },
        "outputId": "b252733b-6edc-477d-d52d-426ee55ea823"
      },
      "execution_count": null,
      "outputs": [
        {
          "output_type": "execute_result",
          "data": {
            "text/plain": [
              "<matplotlib.axes._subplots.AxesSubplot at 0x7fa66996e160>"
            ]
          },
          "metadata": {},
          "execution_count": 57
        },
        {
          "output_type": "display_data",
          "data": {
            "text/plain": [
              "<Figure size 432x288 with 1 Axes>"
            ],
            "image/png": "[encoded data removed]"
          },
          "metadata": {
            "needs_background": "light"
          }
        }
      ]
    },
    {
      "cell_type": "code",
      "source": [
        "# Use seaborn package to display a barplot\n",
        "sns.set_style(\"whitegrid\")\n",
        "\n",
        "ax = sns.barplot(x='Gender',y ='Total', data=df, estimator=len)"
      ],
      "metadata": {
        "id": "mf-RDROamHJs",
        "colab": {
          "base_uri": "https://localhost:8080/",
          "height": 279
        },
        "outputId": "888f0797-7adc-4893-9c76-2c87b2cea2d4"
      },
      "execution_count": null,
      "outputs": [
        {
          "output_type": "display_data",
          "data": {
            "text/plain": [
              "<Figure size 432x288 with 1 Axes>"
            ],
            "image/png": "[encoded data removed]"
          },
          "metadata": {}
        }
      ]
    },
    {
      "cell_type": "code",
      "source": [
        "# Split into 2 groups:\n",
        "ax = sns.barplot(x='Gender',y ='Total', hue='Gender', data=df, estimator=len)"
      ],
      "metadata": {
        "id": "ldZNfOAXmHNm",
        "colab": {
          "base_uri": "https://localhost:8080/",
          "height": 279
        },
        "outputId": "ea113a4b-0c63-40ef-8fe1-ea82ef0b28d0"
      },
      "execution_count": null,
      "outputs": [
        {
          "output_type": "display_data",
          "data": {
            "text/plain": [
              "<Figure size 432x288 with 1 Axes>"
            ],
            "image/png": "[encoded data removed]"
          },
          "metadata": {}
        }
      ]
    },
    {
      "cell_type": "code",
      "source": [
        "sns.scatterplot(x='Java', y='Total', data=df)"
      ],
      "metadata": {
        "id": "ahn9nsrAmW_3",
        "colab": {
          "base_uri": "https://localhost:8080/",
          "height": 296
        },
        "outputId": "2dbecdd7-e343-447f-9238-ef8c54f28a1f"
      },
      "execution_count": null,
      "outputs": [
        {
          "output_type": "execute_result",
          "data": {
            "text/plain": [
              "<matplotlib.axes._subplots.AxesSubplot at 0x7fa669977c10>"
            ]
          },
          "metadata": {},
          "execution_count": 63
        },
        {
          "output_type": "display_data",
          "data": {
            "text/plain": [
              "<Figure size 432x288 with 1 Axes>"
            ],
            "image/png": "[encoded data removed]"
          },
          "metadata": {}
        }
      ]
    },
    {
      "cell_type": "code",
      "source": [
        "#Scatterplot in seaborn\n",
        "sns.jointplot(x='DHV', y='Total', data=df)"
      ],
      "metadata": {
        "id": "h941DngvmTdO",
        "colab": {
          "base_uri": "https://localhost:8080/",
          "height": 458
        },
        "outputId": "cd134ae1-e61c-4927-ec55-ffb7811feb98"
      },
      "execution_count": null,
      "outputs": [
        {
          "output_type": "execute_result",
          "data": {
            "text/plain": [
              "<seaborn.axisgrid.JointGrid at 0x7fa6697fdf10>"
            ]
          },
          "metadata": {},
          "execution_count": 64
        },
        {
          "output_type": "display_data",
          "data": {
            "text/plain": [
              "<Figure size 432x432 with 3 Axes>"
            ],
            "image/png": "[encoded data removed]"
          },
          "metadata": {}
        }
      ]
    },
    {
      "cell_type": "code",
      "source": [
        "#Violinplot\n",
        "sns.violinplot(x = \"Total\", data=df)"
      ],
      "metadata": {
        "id": "UOECOvETmHU4",
        "colab": {
          "base_uri": "https://localhost:8080/",
          "height": 296
        },
        "outputId": "f32518ec-05e8-4fdb-a68f-3dbec5c4739b"
      },
      "execution_count": null,
      "outputs": [
        {
          "output_type": "execute_result",
          "data": {
            "text/plain": [
              "<matplotlib.axes._subplots.AxesSubplot at 0x7fa669705100>"
            ]
          },
          "metadata": {},
          "execution_count": 65
        },
        {
          "output_type": "display_data",
          "data": {
            "text/plain": [
              "<Figure size 432x288 with 1 Axes>"
            ],
            "image/png": "[encoded data removed]"
          },
          "metadata": {}
        }
      ]
    },
    {
      "cell_type": "code",
      "source": [
        "#If we are interested in linear regression plot for 2 numeric variables we can use regplot\n",
        "sns.regplot(x='DHV', y='Total', data=df)"
      ],
      "metadata": {
        "id": "422NeKNGl7-N",
        "colab": {
          "base_uri": "https://localhost:8080/",
          "height": 296
        },
        "outputId": "2b7fc977-7a9b-4510-f74c-8661a8e726d4"
      },
      "execution_count": null,
      "outputs": [
        {
          "output_type": "execute_result",
          "data": {
            "text/plain": [
              "<matplotlib.axes._subplots.AxesSubplot at 0x7fa6696bbfd0>"
            ]
          },
          "metadata": {},
          "execution_count": 66
        },
        {
          "output_type": "display_data",
          "data": {
            "text/plain": [
              "<Figure size 432x288 with 1 Axes>"
            ],
            "image/png": "[encoded data removed]"
          },
          "metadata": {}
        }
      ]
    },
    {
      "cell_type": "code",
      "source": [
        "# box plot\n",
        "sns.boxplot(x='Gender',y='Total', data=df)"
      ],
      "metadata": {
        "id": "JCtTUYBnma0H",
        "colab": {
          "base_uri": "https://localhost:8080/",
          "height": 296
        },
        "outputId": "347dc4b5-6d6e-4ec9-9f5c-6a6236aed174"
      },
      "execution_count": null,
      "outputs": [
        {
          "output_type": "execute_result",
          "data": {
            "text/plain": [
              "<matplotlib.axes._subplots.AxesSubplot at 0x7fa6698d80d0>"
            ]
          },
          "metadata": {},
          "execution_count": 67
        },
        {
          "output_type": "display_data",
          "data": {
            "text/plain": [
              "<Figure size 432x288 with 1 Axes>"
            ],
            "image/png": "[encoded data removed]"
          },
          "metadata": {}
        }
      ]
    },
    {
      "cell_type": "code",
      "source": [
        "# swarm plot\n",
        "sns.swarmplot(x='Gender',y='Total', data=df)"
      ],
      "metadata": {
        "id": "6a2NzmWzma-Y",
        "colab": {
          "base_uri": "https://localhost:8080/",
          "height": 296
        },
        "outputId": "b8363e3e-9972-4faf-fd68-439718cf1dd3"
      },
      "execution_count": null,
      "outputs": [
        {
          "output_type": "execute_result",
          "data": {
            "text/plain": [
              "<matplotlib.axes._subplots.AxesSubplot at 0x7fa6695fc9a0>"
            ]
          },
          "metadata": {},
          "execution_count": 68
        },
        {
          "output_type": "display_data",
          "data": {
            "text/plain": [
              "<Figure size 432x288 with 1 Axes>"
            ],
            "image/png": "[encoded data removed]"
          },
          "metadata": {}
        }
      ]
    },
    {
      "cell_type": "code",
      "source": [
        "# Pairplot \n",
        "sns.pairplot(df)"
      ],
      "metadata": {
        "id": "9WvN4nkXmbDU",
        "colab": {
          "base_uri": "https://localhost:8080/",
          "height": 977
        },
        "outputId": "e423d217-d593-47df-a9bb-9838ced1ea14"
      },
      "execution_count": null,
      "outputs": [
        {
          "output_type": "execute_result",
          "data": {
            "text/plain": [
              "<seaborn.axisgrid.PairGrid at 0x7fa66963cb50>"
            ]
          },
          "metadata": {},
          "execution_count": 69
        },
        {
          "output_type": "display_data",
          "data": {
            "text/plain": [
              "<Figure size 1260x1260 with 56 Axes>"
            ],
            "image/png": "[encoded data removed]"
          },
          "metadata": {}
        }
      ]
    },
    {
      "cell_type": "code",
      "source": [],
      "metadata": {
        "id": "i9b4E4ss-uMT"
      },
      "execution_count": null,
      "outputs": []
    }
  ]
}